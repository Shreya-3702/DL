{
  "nbformat": 4,
  "nbformat_minor": 0,
  "metadata": {
    "colab": {
      "provenance": []
    },
    "kernelspec": {
      "name": "python3",
      "display_name": "Python 3"
    },
    "language_info": {
      "name": "python"
    }
  },
  "cells": [
    {
      "cell_type": "markdown",
      "source": [
        "Implement the Continuous Bag of Words (CBOW) Model for the given (textual document 1) using the below steps:\n",
        "a. Data preparation\n",
        "b. Generate training data\n",
        "c. Train model\n",
        "d. Output"
      ],
      "metadata": {
        "id": "lh_UHrJNlalD"
      }
    },
    {
      "cell_type": "code",
      "execution_count": null,
      "metadata": {
        "id": "mgmSGCrbjSbT"
      },
      "outputs": [],
      "source": [
        "import tensorflow as tf\n",
        "from tensorflow import keras\n",
        "from tensorflow.keras.preprocessing.text import Tokenizer\n",
        "from sklearn.model_selection import train_test_split\n",
        "from keras.models import Sequential\n",
        "from keras.layers import Embedding,Lambda,Dense\n",
        "import numpy as np\n",
        "import pandas as pd\n",
        "\n",
        "from sklearn.metrics.pairwise import cosine_similarity"
      ]
    },
    {
      "cell_type": "markdown",
      "source": [
        "**Data Preparation**"
      ],
      "metadata": {
        "id": "v5p2yf4q7-nr"
      }
    },
    {
      "cell_type": "code",
      "source": [
        "data = \"\"\"Deep learning (also known as deep structured learning) is part of a broader family of machine learning methods based on artificial neural networks with representation learning. Learning can be supervised, semi-supervised or unsupervised. Deep-learning architectures such as deep neural networks, deep belief networks, deep reinforcement learning, recurrent neural networks, convolutional neural networks and Transformers have been applied to fields including computer vision, speech recognition, natural language processing, machine translation, bioinformatics, drug design, medical image analysis, climate science, material inspection and board game programs, where they have produced results comparable to and in some cases surpassing human expert performance\"\"\""
      ],
      "metadata": {
        "id": "Sf9hjAP-kthW"
      },
      "execution_count": null,
      "outputs": []
    },
    {
      "cell_type": "code",
      "source": [
        "sentences = data.split('.')\n",
        "\n",
        "sentences = [sentence.lower() for sentence in sentences]\n",
        "\n",
        "sentences"
      ],
      "metadata": {
        "colab": {
          "base_uri": "https://localhost:8080/"
        },
        "id": "RZTCWVFhlugc",
        "outputId": "3f6fae38-4c40-4527-db65-2a52489c22ab"
      },
      "execution_count": null,
      "outputs": [
        {
          "output_type": "execute_result",
          "data": {
            "text/plain": [
              "['deep learning (also known as deep structured learning) is part of a broader family of machine learning methods based on artificial neural networks with representation learning',\n",
              " ' learning can be supervised, semi-supervised or unsupervised',\n",
              " ' deep-learning architectures such as deep neural networks, deep belief networks, deep reinforcement learning, recurrent neural networks, convolutional neural networks and transformers have been applied to fields including computer vision, speech recognition, natural language processing, machine translation, bioinformatics, drug design, medical image analysis, climate science, material inspection and board game programs, where they have produced results comparable to and in some cases surpassing human expert performance']"
            ]
          },
          "metadata": {},
          "execution_count": 12
        }
      ]
    },
    {
      "cell_type": "code",
      "source": [
        "tokenizer = Tokenizer()\n",
        "tokenizer.fit_on_texts(sentences)\n",
        "sequences = tokenizer.texts_to_sequences(sentences)\n",
        "sequences"
      ],
      "metadata": {
        "colab": {
          "base_uri": "https://localhost:8080/"
        },
        "id": "51_4wqDrmZIG",
        "outputId": "e553563b-dc08-4611-fa03-e776141cdfd0"
      },
      "execution_count": null,
      "outputs": [
        {
          "output_type": "execute_result",
          "data": {
            "text/plain": [
              "[[2,\n",
              "  1,\n",
              "  12,\n",
              "  13,\n",
              "  6,\n",
              "  2,\n",
              "  14,\n",
              "  1,\n",
              "  15,\n",
              "  16,\n",
              "  7,\n",
              "  17,\n",
              "  18,\n",
              "  19,\n",
              "  7,\n",
              "  8,\n",
              "  1,\n",
              "  20,\n",
              "  21,\n",
              "  22,\n",
              "  23,\n",
              "  4,\n",
              "  3,\n",
              "  24,\n",
              "  25,\n",
              "  1],\n",
              " [1, 26, 27, 9, 28, 9, 29, 30],\n",
              " [2,\n",
              "  1,\n",
              "  31,\n",
              "  32,\n",
              "  6,\n",
              "  2,\n",
              "  4,\n",
              "  3,\n",
              "  2,\n",
              "  33,\n",
              "  3,\n",
              "  2,\n",
              "  34,\n",
              "  1,\n",
              "  35,\n",
              "  4,\n",
              "  3,\n",
              "  36,\n",
              "  4,\n",
              "  3,\n",
              "  5,\n",
              "  37,\n",
              "  10,\n",
              "  38,\n",
              "  39,\n",
              "  11,\n",
              "  40,\n",
              "  41,\n",
              "  42,\n",
              "  43,\n",
              "  44,\n",
              "  45,\n",
              "  46,\n",
              "  47,\n",
              "  48,\n",
              "  8,\n",
              "  49,\n",
              "  50,\n",
              "  51,\n",
              "  52,\n",
              "  53,\n",
              "  54,\n",
              "  55,\n",
              "  56,\n",
              "  57,\n",
              "  58,\n",
              "  59,\n",
              "  5,\n",
              "  60,\n",
              "  61,\n",
              "  62,\n",
              "  63,\n",
              "  64,\n",
              "  10,\n",
              "  65,\n",
              "  66,\n",
              "  67,\n",
              "  11,\n",
              "  5,\n",
              "  68,\n",
              "  69,\n",
              "  70,\n",
              "  71,\n",
              "  72,\n",
              "  73,\n",
              "  74]]"
            ]
          },
          "metadata": {},
          "execution_count": 13
        }
      ]
    },
    {
      "cell_type": "code",
      "source": [
        "word2idx = tokenizer.word_index\n",
        "idx2word = tokenizer.index_word\n",
        "\n",
        "print(word2idx)\n",
        "print(\"\\n\")\n",
        "print(idx2word)"
      ],
      "metadata": {
        "colab": {
          "base_uri": "https://localhost:8080/"
        },
        "id": "ADKE_qnco7tf",
        "outputId": "1576c6c8-49df-4969-9caa-0120faaba2d9"
      },
      "execution_count": null,
      "outputs": [
        {
          "output_type": "stream",
          "name": "stdout",
          "text": [
            "{'learning': 1, 'deep': 2, 'networks': 3, 'neural': 4, 'and': 5, 'as': 6, 'of': 7, 'machine': 8, 'supervised': 9, 'have': 10, 'to': 11, 'also': 12, 'known': 13, 'structured': 14, 'is': 15, 'part': 16, 'a': 17, 'broader': 18, 'family': 19, 'methods': 20, 'based': 21, 'on': 22, 'artificial': 23, 'with': 24, 'representation': 25, 'can': 26, 'be': 27, 'semi': 28, 'or': 29, 'unsupervised': 30, 'architectures': 31, 'such': 32, 'belief': 33, 'reinforcement': 34, 'recurrent': 35, 'convolutional': 36, 'transformers': 37, 'been': 38, 'applied': 39, 'fields': 40, 'including': 41, 'computer': 42, 'vision': 43, 'speech': 44, 'recognition': 45, 'natural': 46, 'language': 47, 'processing': 48, 'translation': 49, 'bioinformatics': 50, 'drug': 51, 'design': 52, 'medical': 53, 'image': 54, 'analysis': 55, 'climate': 56, 'science': 57, 'material': 58, 'inspection': 59, 'board': 60, 'game': 61, 'programs': 62, 'where': 63, 'they': 64, 'produced': 65, 'results': 66, 'comparable': 67, 'in': 68, 'some': 69, 'cases': 70, 'surpassing': 71, 'human': 72, 'expert': 73, 'performance': 74}\n",
            "\n",
            "\n",
            "{1: 'learning', 2: 'deep', 3: 'networks', 4: 'neural', 5: 'and', 6: 'as', 7: 'of', 8: 'machine', 9: 'supervised', 10: 'have', 11: 'to', 12: 'also', 13: 'known', 14: 'structured', 15: 'is', 16: 'part', 17: 'a', 18: 'broader', 19: 'family', 20: 'methods', 21: 'based', 22: 'on', 23: 'artificial', 24: 'with', 25: 'representation', 26: 'can', 27: 'be', 28: 'semi', 29: 'or', 30: 'unsupervised', 31: 'architectures', 32: 'such', 33: 'belief', 34: 'reinforcement', 35: 'recurrent', 36: 'convolutional', 37: 'transformers', 38: 'been', 39: 'applied', 40: 'fields', 41: 'including', 42: 'computer', 43: 'vision', 44: 'speech', 45: 'recognition', 46: 'natural', 47: 'language', 48: 'processing', 49: 'translation', 50: 'bioinformatics', 51: 'drug', 52: 'design', 53: 'medical', 54: 'image', 55: 'analysis', 56: 'climate', 57: 'science', 58: 'material', 59: 'inspection', 60: 'board', 61: 'game', 62: 'programs', 63: 'where', 64: 'they', 65: 'produced', 66: 'results', 67: 'comparable', 68: 'in', 69: 'some', 70: 'cases', 71: 'surpassing', 72: 'human', 73: 'expert', 74: 'performance'}\n"
          ]
        }
      ]
    },
    {
      "cell_type": "markdown",
      "source": [
        "**Generating training data**"
      ],
      "metadata": {
        "id": "oJ9DnfrB8aNe"
      }
    },
    {
      "cell_type": "code",
      "source": [
        "vocab_size = len(word2idx) + 1\n",
        "embed_size = 100\n",
        "context_size = 2\n",
        "\n",
        "contexts = []\n",
        "targets = []\n",
        "\n",
        "for sequence in sequences:\n",
        "  for i in range(context_size,len(sequence)-context_size):\n",
        "    target = sequence[i]\n",
        "    targets.append(target)\n",
        "    context = [sequence[i-2],sequence[i-1],sequence[i+1],sequence[i+2]]\n",
        "    contexts.append(context)\n",
        "\n",
        "print(contexts,\"\\n\")\n",
        "print(targets)"
      ],
      "metadata": {
        "colab": {
          "base_uri": "https://localhost:8080/"
        },
        "id": "rvwaCxOvpZQk",
        "outputId": "ae293e8f-2400-4e83-9c59-def5010e2b35"
      },
      "execution_count": null,
      "outputs": [
        {
          "output_type": "stream",
          "name": "stdout",
          "text": [
            "[[2, 1, 13, 6], [1, 12, 6, 2], [12, 13, 2, 14], [13, 6, 14, 1], [6, 2, 1, 15], [2, 14, 15, 16], [14, 1, 16, 7], [1, 15, 7, 17], [15, 16, 17, 18], [16, 7, 18, 19], [7, 17, 19, 7], [17, 18, 7, 8], [18, 19, 8, 1], [19, 7, 1, 20], [7, 8, 20, 21], [8, 1, 21, 22], [1, 20, 22, 23], [20, 21, 23, 4], [21, 22, 4, 3], [22, 23, 3, 24], [23, 4, 24, 25], [4, 3, 25, 1], [1, 26, 9, 28], [26, 27, 28, 9], [27, 9, 9, 29], [9, 28, 29, 30], [2, 1, 32, 6], [1, 31, 6, 2], [31, 32, 2, 4], [32, 6, 4, 3], [6, 2, 3, 2], [2, 4, 2, 33], [4, 3, 33, 3], [3, 2, 3, 2], [2, 33, 2, 34], [33, 3, 34, 1], [3, 2, 1, 35], [2, 34, 35, 4], [34, 1, 4, 3], [1, 35, 3, 36], [35, 4, 36, 4], [4, 3, 4, 3], [3, 36, 3, 5], [36, 4, 5, 37], [4, 3, 37, 10], [3, 5, 10, 38], [5, 37, 38, 39], [37, 10, 39, 11], [10, 38, 11, 40], [38, 39, 40, 41], [39, 11, 41, 42], [11, 40, 42, 43], [40, 41, 43, 44], [41, 42, 44, 45], [42, 43, 45, 46], [43, 44, 46, 47], [44, 45, 47, 48], [45, 46, 48, 8], [46, 47, 8, 49], [47, 48, 49, 50], [48, 8, 50, 51], [8, 49, 51, 52], [49, 50, 52, 53], [50, 51, 53, 54], [51, 52, 54, 55], [52, 53, 55, 56], [53, 54, 56, 57], [54, 55, 57, 58], [55, 56, 58, 59], [56, 57, 59, 5], [57, 58, 5, 60], [58, 59, 60, 61], [59, 5, 61, 62], [5, 60, 62, 63], [60, 61, 63, 64], [61, 62, 64, 10], [62, 63, 10, 65], [63, 64, 65, 66], [64, 10, 66, 67], [10, 65, 67, 11], [65, 66, 11, 5], [66, 67, 5, 68], [67, 11, 68, 69], [11, 5, 69, 70], [5, 68, 70, 71], [68, 69, 71, 72], [69, 70, 72, 73], [70, 71, 73, 74]] \n",
            "\n",
            "[12, 13, 6, 2, 14, 1, 15, 16, 7, 17, 18, 19, 7, 8, 1, 20, 21, 22, 23, 4, 3, 24, 27, 9, 28, 9, 31, 32, 6, 2, 4, 3, 2, 33, 3, 2, 34, 1, 35, 4, 3, 36, 4, 3, 5, 37, 10, 38, 39, 11, 40, 41, 42, 43, 44, 45, 46, 47, 48, 8, 49, 50, 51, 52, 53, 54, 55, 56, 57, 58, 59, 5, 60, 61, 62, 63, 64, 10, 65, 66, 67, 11, 5, 68, 69, 70, 71, 72]\n"
          ]
        }
      ]
    },
    {
      "cell_type": "code",
      "source": [
        "for i in range(5):\n",
        "  context_words = []\n",
        "  target_word = idx2word[targets[i]]\n",
        "  for j in contexts[i]:\n",
        "    context_words.append(idx2word[j])\n",
        "  print(context_words,\"->\",target_word)"
      ],
      "metadata": {
        "colab": {
          "base_uri": "https://localhost:8080/"
        },
        "id": "WtP1fm_E-723",
        "outputId": "dc47c013-080b-491a-c3f6-430c35be28ab"
      },
      "execution_count": null,
      "outputs": [
        {
          "output_type": "stream",
          "name": "stdout",
          "text": [
            "['deep', 'learning', 'known', 'as'] -> also\n",
            "['learning', 'also', 'as', 'deep'] -> known\n",
            "['also', 'known', 'deep', 'structured'] -> as\n",
            "['known', 'as', 'structured', 'learning'] -> deep\n",
            "['as', 'deep', 'learning', 'is'] -> structured\n"
          ]
        }
      ]
    },
    {
      "cell_type": "code",
      "source": [
        "x = np.array(contexts)\n",
        "y = np.array(targets)\n",
        "\n",
        "x_train,x_test,y_train,y_test = train_test_split(x,y,test_size=0.2,random_state=42)\n"
      ],
      "metadata": {
        "id": "eQSfpgHS_-Y6"
      },
      "execution_count": null,
      "outputs": []
    },
    {
      "cell_type": "markdown",
      "source": [
        "**Training Model**"
      ],
      "metadata": {
        "id": "IZcHdw3nE9pb"
      }
    },
    {
      "cell_type": "code",
      "source": [
        "model = Sequential([\n",
        "    Embedding(input_dim=vocab_size,output_dim=embed_size,input_length=2*context_size),\n",
        "    Lambda(lambda x: tf.reduce_mean(x,axis=1)),\n",
        "    Dense(32,activation='relu'),\n",
        "    Dense(64,activation='relu'),\n",
        "    Dense(vocab_size,activation='softmax')\n",
        "])"
      ],
      "metadata": {
        "colab": {
          "base_uri": "https://localhost:8080/"
        },
        "id": "KCjD4Hv2E0Jb",
        "outputId": "c5a26e9e-db98-498d-a7b7-609539931980"
      },
      "execution_count": null,
      "outputs": [
        {
          "output_type": "stream",
          "name": "stderr",
          "text": [
            "/usr/local/lib/python3.10/dist-packages/keras/src/layers/core/embedding.py:90: UserWarning: Argument `input_length` is deprecated. Just remove it.\n",
            "  warnings.warn(\n"
          ]
        }
      ]
    },
    {
      "cell_type": "code",
      "source": [
        "model.compile(loss=\"sparse_categorical_crossentropy\",optimizer='adam',metrics=['accuracy'])"
      ],
      "metadata": {
        "id": "eeSFPb2FHlni"
      },
      "execution_count": null,
      "outputs": []
    },
    {
      "cell_type": "code",
      "source": [
        "history = model.fit(x_train, y_train, epochs=20, validation_data=(x_test, y_test))"
      ],
      "metadata": {
        "colab": {
          "base_uri": "https://localhost:8080/"
        },
        "id": "TJ2ApzGmIw6Q",
        "outputId": "6f40de1a-ab2d-4e3e-864d-d8feeeea8c15"
      },
      "execution_count": null,
      "outputs": [
        {
          "output_type": "stream",
          "name": "stdout",
          "text": [
            "Epoch 1/20\n",
            "\u001b[1m3/3\u001b[0m \u001b[32m━━━━━━━━━━━━━━━━━━━━\u001b[0m\u001b[37m\u001b[0m \u001b[1m0s\u001b[0m 44ms/step - accuracy: 0.1008 - loss: 4.0463 - val_accuracy: 0.0000e+00 - val_loss: 4.5506\n",
            "Epoch 2/20\n",
            "\u001b[1m3/3\u001b[0m \u001b[32m━━━━━━━━━━━━━━━━━━━━\u001b[0m\u001b[37m\u001b[0m \u001b[1m0s\u001b[0m 17ms/step - accuracy: 0.1346 - loss: 3.9695 - val_accuracy: 0.0000e+00 - val_loss: 4.6035\n",
            "Epoch 3/20\n",
            "\u001b[1m3/3\u001b[0m \u001b[32m━━━━━━━━━━━━━━━━━━━━\u001b[0m\u001b[37m\u001b[0m \u001b[1m0s\u001b[0m 24ms/step - accuracy: 0.1151 - loss: 3.9187 - val_accuracy: 0.0000e+00 - val_loss: 4.6690\n",
            "Epoch 4/20\n",
            "\u001b[1m3/3\u001b[0m \u001b[32m━━━━━━━━━━━━━━━━━━━━\u001b[0m\u001b[37m\u001b[0m \u001b[1m0s\u001b[0m 19ms/step - accuracy: 0.1346 - loss: 3.8502 - val_accuracy: 0.0000e+00 - val_loss: 4.7500\n",
            "Epoch 5/20\n",
            "\u001b[1m3/3\u001b[0m \u001b[32m━━━━━━━━━━━━━━━━━━━━\u001b[0m\u001b[37m\u001b[0m \u001b[1m0s\u001b[0m 18ms/step - accuracy: 0.1268 - loss: 3.7874 - val_accuracy: 0.0000e+00 - val_loss: 4.8483\n",
            "Epoch 6/20\n",
            "\u001b[1m3/3\u001b[0m \u001b[32m━━━━━━━━━━━━━━━━━━━━\u001b[0m\u001b[37m\u001b[0m \u001b[1m0s\u001b[0m 19ms/step - accuracy: 0.1730 - loss: 3.6974 - val_accuracy: 0.0000e+00 - val_loss: 4.9664\n",
            "Epoch 7/20\n",
            "\u001b[1m3/3\u001b[0m \u001b[32m━━━━━━━━━━━━━━━━━━━━\u001b[0m\u001b[37m\u001b[0m \u001b[1m0s\u001b[0m 17ms/step - accuracy: 0.1300 - loss: 3.6493 - val_accuracy: 0.0000e+00 - val_loss: 5.1056\n",
            "Epoch 8/20\n",
            "\u001b[1m3/3\u001b[0m \u001b[32m━━━━━━━━━━━━━━━━━━━━\u001b[0m\u001b[37m\u001b[0m \u001b[1m0s\u001b[0m 20ms/step - accuracy: 0.1339 - loss: 3.5627 - val_accuracy: 0.0000e+00 - val_loss: 5.2588\n",
            "Epoch 9/20\n",
            "\u001b[1m3/3\u001b[0m \u001b[32m━━━━━━━━━━━━━━━━━━━━\u001b[0m\u001b[37m\u001b[0m \u001b[1m0s\u001b[0m 19ms/step - accuracy: 0.1528 - loss: 3.5044 - val_accuracy: 0.0000e+00 - val_loss: 5.4249\n",
            "Epoch 10/20\n",
            "\u001b[1m3/3\u001b[0m \u001b[32m━━━━━━━━━━━━━━━━━━━━\u001b[0m\u001b[37m\u001b[0m \u001b[1m0s\u001b[0m 18ms/step - accuracy: 0.2022 - loss: 3.4107 - val_accuracy: 0.0000e+00 - val_loss: 5.5915\n",
            "Epoch 11/20\n",
            "\u001b[1m3/3\u001b[0m \u001b[32m━━━━━━━━━━━━━━━━━━━━\u001b[0m\u001b[37m\u001b[0m \u001b[1m0s\u001b[0m 22ms/step - accuracy: 0.1866 - loss: 3.3377 - val_accuracy: 0.0000e+00 - val_loss: 5.7554\n",
            "Epoch 12/20\n",
            "\u001b[1m3/3\u001b[0m \u001b[32m━━━━━━━━━━━━━━━━━━━━\u001b[0m\u001b[37m\u001b[0m \u001b[1m0s\u001b[0m 20ms/step - accuracy: 0.2094 - loss: 3.3164 - val_accuracy: 0.0000e+00 - val_loss: 5.9107\n",
            "Epoch 13/20\n",
            "\u001b[1m3/3\u001b[0m \u001b[32m━━━━━━━━━━━━━━━━━━━━\u001b[0m\u001b[37m\u001b[0m \u001b[1m0s\u001b[0m 26ms/step - accuracy: 0.2048 - loss: 3.2652 - val_accuracy: 0.0000e+00 - val_loss: 6.0467\n",
            "Epoch 14/20\n",
            "\u001b[1m3/3\u001b[0m \u001b[32m━━━━━━━━━━━━━━━━━━━━\u001b[0m\u001b[37m\u001b[0m \u001b[1m0s\u001b[0m 18ms/step - accuracy: 0.2478 - loss: 3.1685 - val_accuracy: 0.0000e+00 - val_loss: 6.1754\n",
            "Epoch 15/20\n",
            "\u001b[1m3/3\u001b[0m \u001b[32m━━━━━━━━━━━━━━━━━━━━\u001b[0m\u001b[37m\u001b[0m \u001b[1m0s\u001b[0m 18ms/step - accuracy: 0.2158 - loss: 3.1824 - val_accuracy: 0.0000e+00 - val_loss: 6.2914\n",
            "Epoch 16/20\n",
            "\u001b[1m3/3\u001b[0m \u001b[32m━━━━━━━━━━━━━━━━━━━━\u001b[0m\u001b[37m\u001b[0m \u001b[1m0s\u001b[0m 18ms/step - accuracy: 0.2425 - loss: 3.0527 - val_accuracy: 0.0000e+00 - val_loss: 6.3979\n",
            "Epoch 17/20\n",
            "\u001b[1m3/3\u001b[0m \u001b[32m━━━━━━━━━━━━━━━━━━━━\u001b[0m\u001b[37m\u001b[0m \u001b[1m0s\u001b[0m 18ms/step - accuracy: 0.2679 - loss: 3.0990 - val_accuracy: 0.0000e+00 - val_loss: 6.4705\n",
            "Epoch 18/20\n",
            "\u001b[1m3/3\u001b[0m \u001b[32m━━━━━━━━━━━━━━━━━━━━\u001b[0m\u001b[37m\u001b[0m \u001b[1m0s\u001b[0m 18ms/step - accuracy: 0.2724 - loss: 2.9890 - val_accuracy: 0.0000e+00 - val_loss: 6.5616\n",
            "Epoch 19/20\n",
            "\u001b[1m3/3\u001b[0m \u001b[32m━━━━━━━━━━━━━━━━━━━━\u001b[0m\u001b[37m\u001b[0m \u001b[1m0s\u001b[0m 31ms/step - accuracy: 0.2412 - loss: 2.9541 - val_accuracy: 0.0000e+00 - val_loss: 6.6669\n",
            "Epoch 20/20\n",
            "\u001b[1m3/3\u001b[0m \u001b[32m━━━━━━━━━━━━━━━━━━━━\u001b[0m\u001b[37m\u001b[0m \u001b[1m0s\u001b[0m 20ms/step - accuracy: 0.3030 - loss: 2.8411 - val_accuracy: 0.0000e+00 - val_loss: 6.7832\n"
          ]
        }
      ]
    },
    {
      "cell_type": "markdown",
      "source": [
        "**Prediction**"
      ],
      "metadata": {
        "id": "MHISnAmqNDeD"
      }
    },
    {
      "cell_type": "code",
      "source": [
        "def predict_target_word(context_words):\n",
        "  context_sequence = [word2idx[word] for word in context_words]\n",
        "  context_sequence = np.array(context_sequence)\n",
        "\n",
        "  prediction_prob = model.predict(context_sequence.reshape(1,-1))\n",
        "\n",
        "  predicted_word_index = np.argmax(prediction_prob)\n",
        "  predicted_word = idx2word[predicted_word_index]\n",
        "\n",
        "  return predicted_word"
      ],
      "metadata": {
        "id": "KZ4G_OPgM7Od"
      },
      "execution_count": null,
      "outputs": []
    },
    {
      "cell_type": "code",
      "source": [
        "target_word = predict_target_word(['deep'] )\n",
        "target_word"
      ],
      "metadata": {
        "colab": {
          "base_uri": "https://localhost:8080/",
          "height": 53
        },
        "id": "Ozd9C0ogOn5e",
        "outputId": "3c85a64e-386b-4e9a-a327-c7912d395353"
      },
      "execution_count": null,
      "outputs": [
        {
          "output_type": "stream",
          "name": "stdout",
          "text": [
            "\u001b[1m1/1\u001b[0m \u001b[32m━━━━━━━━━━━━━━━━━━━━\u001b[0m\u001b[37m\u001b[0m \u001b[1m0s\u001b[0m 31ms/step\n"
          ]
        },
        {
          "output_type": "execute_result",
          "data": {
            "text/plain": [
              "'networks'"
            ],
            "application/vnd.google.colaboratory.intrinsic+json": {
              "type": "string"
            }
          },
          "metadata": {},
          "execution_count": 68
        }
      ]
    },
    {
      "cell_type": "code",
      "source": [
        "embedding_layer = model.layers[0]\n",
        "word_embeddings = embedding_layer.get_weights()[0]\n",
        "word_embeddings\n",
        "\n",
        "df = pd.DataFrame(word_embeddings[1:], index=list(idx2word.values()))\n",
        "df.head()"
      ],
      "metadata": {
        "colab": {
          "base_uri": "https://localhost:8080/",
          "height": 255
        },
        "id": "an8CZPg3RDvX",
        "outputId": "546184ca-0cc1-4758-f517-997f33174ac2"
      },
      "execution_count": null,
      "outputs": [
        {
          "output_type": "execute_result",
          "data": {
            "text/plain": [
              "                0         1         2         3         4         5   \\\n",
              "learning -0.080244  0.023685 -0.049131  0.051408 -0.048281 -0.111540   \n",
              "deep     -0.128014  0.124043 -0.028864 -0.098549 -0.154651 -0.127853   \n",
              "networks -0.198471  0.137536 -0.119992  0.144850 -0.089286 -0.171421   \n",
              "neural   -0.101190  0.041711 -0.013254 -0.121814 -0.112283 -0.102772   \n",
              "and      -0.017712  0.023926 -0.007297  0.011597  0.006323 -0.023147   \n",
              "\n",
              "                6         7         8         9   ...        90        91  \\\n",
              "learning  0.017150  0.139070  0.100558 -0.093907  ... -0.039399  0.033559   \n",
              "deep     -0.072508  0.042119  0.090774 -0.042864  ...  0.091590  0.076861   \n",
              "networks -0.107217  0.054368  0.109344 -0.167025  ... -0.024955  0.090296   \n",
              "neural   -0.154237  0.028148  0.060274  0.097394  ... -0.023819  0.030980   \n",
              "and      -0.052281 -0.158657  0.032322  0.113524  ...  0.018009 -0.021413   \n",
              "\n",
              "                92        93        94        95        96        97  \\\n",
              "learning -0.130371  0.053500 -0.025011  0.040557 -0.073035 -0.038280   \n",
              "deep      0.082205  0.089769 -0.131354  0.053096  0.001475 -0.136682   \n",
              "networks  0.017261  0.061083 -0.078614  0.010457  0.080655 -0.174555   \n",
              "neural    0.053530  0.113209 -0.151861  0.028212  0.026922 -0.077721   \n",
              "and       0.052097 -0.005501  0.013487  0.027314  0.081147 -0.025999   \n",
              "\n",
              "                98        99  \n",
              "learning -0.085537 -0.077802  \n",
              "deep     -0.113537  0.050998  \n",
              "networks -0.113716  0.133805  \n",
              "neural   -0.126031  0.129290  \n",
              "and       0.102464  0.001669  \n",
              "\n",
              "[5 rows x 100 columns]"
            ],
            "text/html": [
              "\n",
              "  <div id=\"df-1fb013d0-ffe8-485b-ab38-50861ef55cec\" class=\"colab-df-container\">\n",
              "    <div>\n",
              "<style scoped>\n",
              "    .dataframe tbody tr th:only-of-type {\n",
              "        vertical-align: middle;\n",
              "    }\n",
              "\n",
              "    .dataframe tbody tr th {\n",
              "        vertical-align: top;\n",
              "    }\n",
              "\n",
              "    .dataframe thead th {\n",
              "        text-align: right;\n",
              "    }\n",
              "</style>\n",
              "<table border=\"1\" class=\"dataframe\">\n",
              "  <thead>\n",
              "    <tr style=\"text-align: right;\">\n",
              "      <th></th>\n",
              "      <th>0</th>\n",
              "      <th>1</th>\n",
              "      <th>2</th>\n",
              "      <th>3</th>\n",
              "      <th>4</th>\n",
              "      <th>5</th>\n",
              "      <th>6</th>\n",
              "      <th>7</th>\n",
              "      <th>8</th>\n",
              "      <th>9</th>\n",
              "      <th>...</th>\n",
              "      <th>90</th>\n",
              "      <th>91</th>\n",
              "      <th>92</th>\n",
              "      <th>93</th>\n",
              "      <th>94</th>\n",
              "      <th>95</th>\n",
              "      <th>96</th>\n",
              "      <th>97</th>\n",
              "      <th>98</th>\n",
              "      <th>99</th>\n",
              "    </tr>\n",
              "  </thead>\n",
              "  <tbody>\n",
              "    <tr>\n",
              "      <th>learning</th>\n",
              "      <td>-0.080244</td>\n",
              "      <td>0.023685</td>\n",
              "      <td>-0.049131</td>\n",
              "      <td>0.051408</td>\n",
              "      <td>-0.048281</td>\n",
              "      <td>-0.111540</td>\n",
              "      <td>0.017150</td>\n",
              "      <td>0.139070</td>\n",
              "      <td>0.100558</td>\n",
              "      <td>-0.093907</td>\n",
              "      <td>...</td>\n",
              "      <td>-0.039399</td>\n",
              "      <td>0.033559</td>\n",
              "      <td>-0.130371</td>\n",
              "      <td>0.053500</td>\n",
              "      <td>-0.025011</td>\n",
              "      <td>0.040557</td>\n",
              "      <td>-0.073035</td>\n",
              "      <td>-0.038280</td>\n",
              "      <td>-0.085537</td>\n",
              "      <td>-0.077802</td>\n",
              "    </tr>\n",
              "    <tr>\n",
              "      <th>deep</th>\n",
              "      <td>-0.128014</td>\n",
              "      <td>0.124043</td>\n",
              "      <td>-0.028864</td>\n",
              "      <td>-0.098549</td>\n",
              "      <td>-0.154651</td>\n",
              "      <td>-0.127853</td>\n",
              "      <td>-0.072508</td>\n",
              "      <td>0.042119</td>\n",
              "      <td>0.090774</td>\n",
              "      <td>-0.042864</td>\n",
              "      <td>...</td>\n",
              "      <td>0.091590</td>\n",
              "      <td>0.076861</td>\n",
              "      <td>0.082205</td>\n",
              "      <td>0.089769</td>\n",
              "      <td>-0.131354</td>\n",
              "      <td>0.053096</td>\n",
              "      <td>0.001475</td>\n",
              "      <td>-0.136682</td>\n",
              "      <td>-0.113537</td>\n",
              "      <td>0.050998</td>\n",
              "    </tr>\n",
              "    <tr>\n",
              "      <th>networks</th>\n",
              "      <td>-0.198471</td>\n",
              "      <td>0.137536</td>\n",
              "      <td>-0.119992</td>\n",
              "      <td>0.144850</td>\n",
              "      <td>-0.089286</td>\n",
              "      <td>-0.171421</td>\n",
              "      <td>-0.107217</td>\n",
              "      <td>0.054368</td>\n",
              "      <td>0.109344</td>\n",
              "      <td>-0.167025</td>\n",
              "      <td>...</td>\n",
              "      <td>-0.024955</td>\n",
              "      <td>0.090296</td>\n",
              "      <td>0.017261</td>\n",
              "      <td>0.061083</td>\n",
              "      <td>-0.078614</td>\n",
              "      <td>0.010457</td>\n",
              "      <td>0.080655</td>\n",
              "      <td>-0.174555</td>\n",
              "      <td>-0.113716</td>\n",
              "      <td>0.133805</td>\n",
              "    </tr>\n",
              "    <tr>\n",
              "      <th>neural</th>\n",
              "      <td>-0.101190</td>\n",
              "      <td>0.041711</td>\n",
              "      <td>-0.013254</td>\n",
              "      <td>-0.121814</td>\n",
              "      <td>-0.112283</td>\n",
              "      <td>-0.102772</td>\n",
              "      <td>-0.154237</td>\n",
              "      <td>0.028148</td>\n",
              "      <td>0.060274</td>\n",
              "      <td>0.097394</td>\n",
              "      <td>...</td>\n",
              "      <td>-0.023819</td>\n",
              "      <td>0.030980</td>\n",
              "      <td>0.053530</td>\n",
              "      <td>0.113209</td>\n",
              "      <td>-0.151861</td>\n",
              "      <td>0.028212</td>\n",
              "      <td>0.026922</td>\n",
              "      <td>-0.077721</td>\n",
              "      <td>-0.126031</td>\n",
              "      <td>0.129290</td>\n",
              "    </tr>\n",
              "    <tr>\n",
              "      <th>and</th>\n",
              "      <td>-0.017712</td>\n",
              "      <td>0.023926</td>\n",
              "      <td>-0.007297</td>\n",
              "      <td>0.011597</td>\n",
              "      <td>0.006323</td>\n",
              "      <td>-0.023147</td>\n",
              "      <td>-0.052281</td>\n",
              "      <td>-0.158657</td>\n",
              "      <td>0.032322</td>\n",
              "      <td>0.113524</td>\n",
              "      <td>...</td>\n",
              "      <td>0.018009</td>\n",
              "      <td>-0.021413</td>\n",
              "      <td>0.052097</td>\n",
              "      <td>-0.005501</td>\n",
              "      <td>0.013487</td>\n",
              "      <td>0.027314</td>\n",
              "      <td>0.081147</td>\n",
              "      <td>-0.025999</td>\n",
              "      <td>0.102464</td>\n",
              "      <td>0.001669</td>\n",
              "    </tr>\n",
              "  </tbody>\n",
              "</table>\n",
              "<p>5 rows × 100 columns</p>\n",
              "</div>\n",
              "    <div class=\"colab-df-buttons\">\n",
              "\n",
              "  <div class=\"colab-df-container\">\n",
              "    <button class=\"colab-df-convert\" onclick=\"convertToInteractive('df-1fb013d0-ffe8-485b-ab38-50861ef55cec')\"\n",
              "            title=\"Convert this dataframe to an interactive table.\"\n",
              "            style=\"display:none;\">\n",
              "\n",
              "  <svg xmlns=\"http://www.w3.org/2000/svg\" height=\"24px\" viewBox=\"0 -960 960 960\">\n",
              "    <path d=\"M120-120v-720h720v720H120Zm60-500h600v-160H180v160Zm220 220h160v-160H400v160Zm0 220h160v-160H400v160ZM180-400h160v-160H180v160Zm440 0h160v-160H620v160ZM180-180h160v-160H180v160Zm440 0h160v-160H620v160Z\"/>\n",
              "  </svg>\n",
              "    </button>\n",
              "\n",
              "  <style>\n",
              "    .colab-df-container {\n",
              "      display:flex;\n",
              "      gap: 12px;\n",
              "    }\n",
              "\n",
              "    .colab-df-convert {\n",
              "      background-color: #E8F0FE;\n",
              "      border: none;\n",
              "      border-radius: 50%;\n",
              "      cursor: pointer;\n",
              "      display: none;\n",
              "      fill: #1967D2;\n",
              "      height: 32px;\n",
              "      padding: 0 0 0 0;\n",
              "      width: 32px;\n",
              "    }\n",
              "\n",
              "    .colab-df-convert:hover {\n",
              "      background-color: #E2EBFA;\n",
              "      box-shadow: 0px 1px 2px rgba(60, 64, 67, 0.3), 0px 1px 3px 1px rgba(60, 64, 67, 0.15);\n",
              "      fill: #174EA6;\n",
              "    }\n",
              "\n",
              "    .colab-df-buttons div {\n",
              "      margin-bottom: 4px;\n",
              "    }\n",
              "\n",
              "    [theme=dark] .colab-df-convert {\n",
              "      background-color: #3B4455;\n",
              "      fill: #D2E3FC;\n",
              "    }\n",
              "\n",
              "    [theme=dark] .colab-df-convert:hover {\n",
              "      background-color: #434B5C;\n",
              "      box-shadow: 0px 1px 3px 1px rgba(0, 0, 0, 0.15);\n",
              "      filter: drop-shadow(0px 1px 2px rgba(0, 0, 0, 0.3));\n",
              "      fill: #FFFFFF;\n",
              "    }\n",
              "  </style>\n",
              "\n",
              "    <script>\n",
              "      const buttonEl =\n",
              "        document.querySelector('#df-1fb013d0-ffe8-485b-ab38-50861ef55cec button.colab-df-convert');\n",
              "      buttonEl.style.display =\n",
              "        google.colab.kernel.accessAllowed ? 'block' : 'none';\n",
              "\n",
              "      async function convertToInteractive(key) {\n",
              "        const element = document.querySelector('#df-1fb013d0-ffe8-485b-ab38-50861ef55cec');\n",
              "        const dataTable =\n",
              "          await google.colab.kernel.invokeFunction('convertToInteractive',\n",
              "                                                    [key], {});\n",
              "        if (!dataTable) return;\n",
              "\n",
              "        const docLinkHtml = 'Like what you see? Visit the ' +\n",
              "          '<a target=\"_blank\" href=https://colab.research.google.com/notebooks/data_table.ipynb>data table notebook</a>'\n",
              "          + ' to learn more about interactive tables.';\n",
              "        element.innerHTML = '';\n",
              "        dataTable['output_type'] = 'display_data';\n",
              "        await google.colab.output.renderOutput(dataTable, element);\n",
              "        const docLink = document.createElement('div');\n",
              "        docLink.innerHTML = docLinkHtml;\n",
              "        element.appendChild(docLink);\n",
              "      }\n",
              "    </script>\n",
              "  </div>\n",
              "\n",
              "\n",
              "<div id=\"df-04535e34-30df-4f1d-be11-eedeaf57fe69\">\n",
              "  <button class=\"colab-df-quickchart\" onclick=\"quickchart('df-04535e34-30df-4f1d-be11-eedeaf57fe69')\"\n",
              "            title=\"Suggest charts\"\n",
              "            style=\"display:none;\">\n",
              "\n",
              "<svg xmlns=\"http://www.w3.org/2000/svg\" height=\"24px\"viewBox=\"0 0 24 24\"\n",
              "     width=\"24px\">\n",
              "    <g>\n",
              "        <path d=\"M19 3H5c-1.1 0-2 .9-2 2v14c0 1.1.9 2 2 2h14c1.1 0 2-.9 2-2V5c0-1.1-.9-2-2-2zM9 17H7v-7h2v7zm4 0h-2V7h2v10zm4 0h-2v-4h2v4z\"/>\n",
              "    </g>\n",
              "</svg>\n",
              "  </button>\n",
              "\n",
              "<style>\n",
              "  .colab-df-quickchart {\n",
              "      --bg-color: #E8F0FE;\n",
              "      --fill-color: #1967D2;\n",
              "      --hover-bg-color: #E2EBFA;\n",
              "      --hover-fill-color: #174EA6;\n",
              "      --disabled-fill-color: #AAA;\n",
              "      --disabled-bg-color: #DDD;\n",
              "  }\n",
              "\n",
              "  [theme=dark] .colab-df-quickchart {\n",
              "      --bg-color: #3B4455;\n",
              "      --fill-color: #D2E3FC;\n",
              "      --hover-bg-color: #434B5C;\n",
              "      --hover-fill-color: #FFFFFF;\n",
              "      --disabled-bg-color: #3B4455;\n",
              "      --disabled-fill-color: #666;\n",
              "  }\n",
              "\n",
              "  .colab-df-quickchart {\n",
              "    background-color: var(--bg-color);\n",
              "    border: none;\n",
              "    border-radius: 50%;\n",
              "    cursor: pointer;\n",
              "    display: none;\n",
              "    fill: var(--fill-color);\n",
              "    height: 32px;\n",
              "    padding: 0;\n",
              "    width: 32px;\n",
              "  }\n",
              "\n",
              "  .colab-df-quickchart:hover {\n",
              "    background-color: var(--hover-bg-color);\n",
              "    box-shadow: 0 1px 2px rgba(60, 64, 67, 0.3), 0 1px 3px 1px rgba(60, 64, 67, 0.15);\n",
              "    fill: var(--button-hover-fill-color);\n",
              "  }\n",
              "\n",
              "  .colab-df-quickchart-complete:disabled,\n",
              "  .colab-df-quickchart-complete:disabled:hover {\n",
              "    background-color: var(--disabled-bg-color);\n",
              "    fill: var(--disabled-fill-color);\n",
              "    box-shadow: none;\n",
              "  }\n",
              "\n",
              "  .colab-df-spinner {\n",
              "    border: 2px solid var(--fill-color);\n",
              "    border-color: transparent;\n",
              "    border-bottom-color: var(--fill-color);\n",
              "    animation:\n",
              "      spin 1s steps(1) infinite;\n",
              "  }\n",
              "\n",
              "  @keyframes spin {\n",
              "    0% {\n",
              "      border-color: transparent;\n",
              "      border-bottom-color: var(--fill-color);\n",
              "      border-left-color: var(--fill-color);\n",
              "    }\n",
              "    20% {\n",
              "      border-color: transparent;\n",
              "      border-left-color: var(--fill-color);\n",
              "      border-top-color: var(--fill-color);\n",
              "    }\n",
              "    30% {\n",
              "      border-color: transparent;\n",
              "      border-left-color: var(--fill-color);\n",
              "      border-top-color: var(--fill-color);\n",
              "      border-right-color: var(--fill-color);\n",
              "    }\n",
              "    40% {\n",
              "      border-color: transparent;\n",
              "      border-right-color: var(--fill-color);\n",
              "      border-top-color: var(--fill-color);\n",
              "    }\n",
              "    60% {\n",
              "      border-color: transparent;\n",
              "      border-right-color: var(--fill-color);\n",
              "    }\n",
              "    80% {\n",
              "      border-color: transparent;\n",
              "      border-right-color: var(--fill-color);\n",
              "      border-bottom-color: var(--fill-color);\n",
              "    }\n",
              "    90% {\n",
              "      border-color: transparent;\n",
              "      border-bottom-color: var(--fill-color);\n",
              "    }\n",
              "  }\n",
              "</style>\n",
              "\n",
              "  <script>\n",
              "    async function quickchart(key) {\n",
              "      const quickchartButtonEl =\n",
              "        document.querySelector('#' + key + ' button');\n",
              "      quickchartButtonEl.disabled = true;  // To prevent multiple clicks.\n",
              "      quickchartButtonEl.classList.add('colab-df-spinner');\n",
              "      try {\n",
              "        const charts = await google.colab.kernel.invokeFunction(\n",
              "            'suggestCharts', [key], {});\n",
              "      } catch (error) {\n",
              "        console.error('Error during call to suggestCharts:', error);\n",
              "      }\n",
              "      quickchartButtonEl.classList.remove('colab-df-spinner');\n",
              "      quickchartButtonEl.classList.add('colab-df-quickchart-complete');\n",
              "    }\n",
              "    (() => {\n",
              "      let quickchartButtonEl =\n",
              "        document.querySelector('#df-04535e34-30df-4f1d-be11-eedeaf57fe69 button');\n",
              "      quickchartButtonEl.style.display =\n",
              "        google.colab.kernel.accessAllowed ? 'block' : 'none';\n",
              "    })();\n",
              "  </script>\n",
              "</div>\n",
              "\n",
              "    </div>\n",
              "  </div>\n"
            ],
            "application/vnd.google.colaboratory.intrinsic+json": {
              "type": "dataframe",
              "variable_name": "df"
            }
          },
          "metadata": {},
          "execution_count": 87
        }
      ]
    },
    {
      "cell_type": "code",
      "source": [
        "def get_most_similar_words(word,word_embeddings,top_n=5):\n",
        "  word_idx = word2idx[word]\n",
        "  word_vec = word_embeddings[word_idx].reshape(1,-1)\n",
        "  all_words_vec = word_embeddings\n",
        "  similarity = cosine_similarity(word_vec,all_words_vec)\n",
        "\n",
        "  # Sort the similarity scores in descending order\n",
        "  sorted_indices = similarity.argsort()[0][::-1]\n",
        "\n",
        "  # Get the indices of the top 'top_n' similar words, excluding the word itself\n",
        "  similar_indices = sorted_indices[1:top_n+1]  # Exclude the word itself by starting from index 1\n",
        "\n",
        "  # Print the most similar words\n",
        "  for i in similar_indices:\n",
        "      print(f\"Word: {idx2word[i]}, Similarity: {similarity[0][i]:.4f}\")"
      ],
      "metadata": {
        "id": "E3x2K6zOQgMo"
      },
      "execution_count": null,
      "outputs": []
    },
    {
      "cell_type": "code",
      "source": [
        "get_most_similar_words('deep', word_embeddings, top_n=5)"
      ],
      "metadata": {
        "colab": {
          "base_uri": "https://localhost:8080/"
        },
        "id": "KYTT85K2V7sH",
        "outputId": "fe977203-d702-487a-aba2-bd42163544db"
      },
      "execution_count": null,
      "outputs": [
        {
          "output_type": "stream",
          "name": "stdout",
          "text": [
            "Word: belief, Similarity: 0.8125\n",
            "Word: neural, Similarity: 0.7959\n",
            "Word: convolutional, Similarity: 0.7600\n",
            "Word: with, Similarity: 0.7142\n",
            "Word: artificial, Similarity: 0.7051\n"
          ]
        }
      ]
    }
  ]
}